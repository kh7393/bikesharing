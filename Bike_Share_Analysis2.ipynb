{
 "cells": [
  {
   "cell_type": "markdown",
   "metadata": {},
   "source": [
    "# Introduction\n",
    "\n",
    "User adoption rates are the lifeblood of any transportation business or program. The purpose of this analysis is to provide some insight behind the San Francisco Bike Share Program, to provide information for business decision makers to perform strategic planning when it comes to market expansion.\n",
    "\n",
    "Marketing programs play a huge role market expansion and new user acquisition, so the focus of this analysis would be on providing recommendations for augmenting current marketing programs, as well as a user mapping visualization for monitoring rate of user adoption across different states in America. "
   ]
  },
  {
   "cell_type": "code",
   "execution_count": 25,
   "metadata": {
    "collapsed": false
   },
   "outputs": [
    {
     "data": {
      "text/html": [
       "<div>\n",
       "<table border=\"1\" class=\"dataframe\">\n",
       "  <thead>\n",
       "    <tr style=\"text-align: right;\">\n",
       "      <th></th>\n",
       "      <th>zip</th>\n",
       "      <th>lat</th>\n",
       "      <th>lng</th>\n",
       "      <th>city</th>\n",
       "      <th>state</th>\n",
       "      <th>zcta</th>\n",
       "      <th>parent_zcta</th>\n",
       "      <th>county_fips</th>\n",
       "      <th>county_name</th>\n",
       "      <th>county_weight</th>\n",
       "      <th>all_county_weights</th>\n",
       "      <th>imprecise</th>\n",
       "      <th>military</th>\n",
       "    </tr>\n",
       "  </thead>\n",
       "  <tbody>\n",
       "    <tr>\n",
       "      <th>0</th>\n",
       "      <td>00501</td>\n",
       "      <td>40.8133</td>\n",
       "      <td>-73.0476</td>\n",
       "      <td>Holtsville</td>\n",
       "      <td>NY</td>\n",
       "      <td>False</td>\n",
       "      <td>11742.0</td>\n",
       "      <td>NaN</td>\n",
       "      <td>NaN</td>\n",
       "      <td>NaN</td>\n",
       "      <td>NaN</td>\n",
       "      <td>False</td>\n",
       "      <td>False</td>\n",
       "    </tr>\n",
       "    <tr>\n",
       "      <th>1</th>\n",
       "      <td>00544</td>\n",
       "      <td>40.8133</td>\n",
       "      <td>-73.0476</td>\n",
       "      <td>Holtsville</td>\n",
       "      <td>NY</td>\n",
       "      <td>False</td>\n",
       "      <td>11742.0</td>\n",
       "      <td>NaN</td>\n",
       "      <td>NaN</td>\n",
       "      <td>NaN</td>\n",
       "      <td>NaN</td>\n",
       "      <td>False</td>\n",
       "      <td>False</td>\n",
       "    </tr>\n",
       "    <tr>\n",
       "      <th>2</th>\n",
       "      <td>00601</td>\n",
       "      <td>18.1800</td>\n",
       "      <td>-66.7522</td>\n",
       "      <td>Adjuntas</td>\n",
       "      <td>PR</td>\n",
       "      <td>True</td>\n",
       "      <td>NaN</td>\n",
       "      <td>72001.0</td>\n",
       "      <td>Adjuntas</td>\n",
       "      <td>99.43</td>\n",
       "      <td>{\"72001\":99.43,\"72141\":0.57}</td>\n",
       "      <td>False</td>\n",
       "      <td>False</td>\n",
       "    </tr>\n",
       "    <tr>\n",
       "      <th>3</th>\n",
       "      <td>00602</td>\n",
       "      <td>18.3607</td>\n",
       "      <td>-67.1752</td>\n",
       "      <td>Aguada</td>\n",
       "      <td>PR</td>\n",
       "      <td>True</td>\n",
       "      <td>NaN</td>\n",
       "      <td>72003.0</td>\n",
       "      <td>Aguada</td>\n",
       "      <td>100.00</td>\n",
       "      <td>{\"72003\":100}</td>\n",
       "      <td>False</td>\n",
       "      <td>False</td>\n",
       "    </tr>\n",
       "    <tr>\n",
       "      <th>4</th>\n",
       "      <td>00603</td>\n",
       "      <td>18.4566</td>\n",
       "      <td>-67.1226</td>\n",
       "      <td>Aguadilla</td>\n",
       "      <td>PR</td>\n",
       "      <td>True</td>\n",
       "      <td>NaN</td>\n",
       "      <td>72005.0</td>\n",
       "      <td>Aguadilla</td>\n",
       "      <td>100.00</td>\n",
       "      <td>{\"72005\":100}</td>\n",
       "      <td>False</td>\n",
       "      <td>False</td>\n",
       "    </tr>\n",
       "  </tbody>\n",
       "</table>\n",
       "</div>"
      ],
      "text/plain": [
       "     zip      lat      lng        city state   zcta  parent_zcta  county_fips  \\\n",
       "0  00501  40.8133 -73.0476  Holtsville    NY  False      11742.0          NaN   \n",
       "1  00544  40.8133 -73.0476  Holtsville    NY  False      11742.0          NaN   \n",
       "2  00601  18.1800 -66.7522    Adjuntas    PR   True          NaN      72001.0   \n",
       "3  00602  18.3607 -67.1752      Aguada    PR   True          NaN      72003.0   \n",
       "4  00603  18.4566 -67.1226   Aguadilla    PR   True          NaN      72005.0   \n",
       "\n",
       "  county_name  county_weight            all_county_weights imprecise military  \n",
       "0         NaN            NaN                           NaN     False    False  \n",
       "1         NaN            NaN                           NaN     False    False  \n",
       "2    Adjuntas          99.43  {\"72001\":99.43,\"72141\":0.57}     False    False  \n",
       "3      Aguada         100.00                 {\"72003\":100}     False    False  \n",
       "4   Aguadilla         100.00                 {\"72005\":100}     False    False  "
      ]
     },
     "execution_count": 25,
     "metadata": {},
     "output_type": "execute_result"
    }
   ],
   "source": [
    "%matplotlib inline\n",
    "import sqlite3\n",
    "from pandasql import sqldf\n",
    "import pandas as pd\n",
    "import numpy as np\n",
    "import matplotlib.pyplot as plt\n",
    "import datetime\n",
    "from dateutil import parser\n",
    "import xlrd\n",
    "from pandas import ExcelWriter\n",
    "from uszipcode import ZipcodeSearchEngine\n",
    "import plotly.plotly as py\n",
    "\n",
    "# df_trip_data_part1 = pd.read_sql_query(\"\"\"\n",
    "#                           select * from fact_trips \n",
    "#                           left join dim_stations on\n",
    "#                           fact_trips.start_station_id = dim_stations.id\n",
    "#                           left join (select * from dim_stations) as dim_stations_end on\n",
    "#                           fact_trips.end_station_id = dim_stations_end.id\n",
    "#                           left join (select id, entity_type as Subscriber_Type from dim_entity) as subscriber on\n",
    "#                           fact_trips.entity_id = subscriber.id\n",
    "#                           left join (select entity_id, zip_code from dim_entity_zip) as entity_zip_a on\n",
    "#                           fact_trips.entity_id = entity_zip_a.entity_id\n",
    "#                           ;\n",
    "#                           \"\"\", \n",
    "#                           conn)\n",
    "\n",
    "# get the zips database\n",
    "zips = pd.io.parsers.read_csv('https://github.com/kh7393/bikesharing/blob/master/uszipsv1.1.csv?raw=true', dtype={'zip': 'str'})\n",
    "zips['zip'] = zips.zip.astype(str)\n",
    "zips.head()"
   ]
  },
  {
   "cell_type": "code",
   "execution_count": 3,
   "metadata": {
    "collapsed": false
   },
   "outputs": [
    {
     "data": {
      "text/plain": [
       "Trip ID              171792\n",
       "Duration               8329\n",
       "Start Date            93171\n",
       "Start Station            70\n",
       "Start Terminal           70\n",
       "End Date              92115\n",
       "End Station              70\n",
       "End Terminal             70\n",
       "Bike #                  681\n",
       "Subscriber Type           2\n",
       "Zip Code               3526\n",
       "Start Day of Week         7\n",
       "End Day of Week           7\n",
       "Start Date Month          6\n",
       "End Date Month            7\n",
       "Start Hour               24\n",
       "End Hour                 24\n",
       "Duration_parsed        8329\n",
       "Route                  1677\n",
       "subscriber_city        1284\n",
       "state                    46\n",
       "lat                    2545\n",
       "lng                    2549\n",
       "dtype: int64"
      ]
     },
     "execution_count": 3,
     "metadata": {},
     "output_type": "execute_result"
    }
   ],
   "source": [
    "df = pd.io.parsers.read_csv('201408_trip_data.csv', dtype={'Zip Code': 'str'})\n",
    "df['Start Date'] = pd.to_datetime(df['Start Date'])\n",
    "df['End Date'] = pd.to_datetime(df['End Date'])\n",
    "df['Start Day of Week'] = df['Start Date'].dt.strftime('%A')\n",
    "df['End Day of Week'] = df['End Date'].dt.strftime('%A')\n",
    "df['Start Date Month'] = df['Start Date'].dt.strftime('%B')\n",
    "df['End Date Month'] = df['End Date'].dt.strftime('%B')\n",
    "df['Start Hour'] = df['Start Date'].dt.strftime('%H')\n",
    "df['End Hour'] = df['End Date'].dt.strftime('%H')\n",
    "df['Duration_parsed'] = pd.to_timedelta(df['Duration'], unit='m')\n",
    "df['Route'] = df['Start Station'] + \"-\" + df['Start Terminal'].astype(str) + \" -> \" + df['End Station'] + \"-\" + df['End Terminal'].astype(str)\n",
    "# -- prepare common join columns\n",
    "zips.rename(columns=dict(zip='Zip Code',\n",
    "                         city='subscriber_city'), \n",
    "            inplace=True)  \n",
    "# specify join columns along with zips' columns to copy\n",
    "cols = ['Zip Code', 'subscriber_city', 'state', 'lat', 'lng']\n",
    "df = df.merge(zips[cols], how='left')\n",
    "df.head()\n",
    "df.apply(pd.Series.nunique)"
   ]
  },
  {
   "cell_type": "markdown",
   "metadata": {},
   "source": [
    "# Analysis/Commentary\n",
    "\n",
    "We have a total of 70 unique terminals in this program. We have 171,792 trips made over a span of 6 months, from March 2014 to August 2014. "
   ]
  },
  {
   "cell_type": "markdown",
   "metadata": {},
   "source": [
    "# Trip Duration"
   ]
  },
  {
   "cell_type": "code",
   "execution_count": 28,
   "metadata": {
    "collapsed": false
   },
   "outputs": [
    {
     "name": "stdout",
     "output_type": "stream",
     "text": [
      "18.8752374965\n"
     ]
    },
    {
     "data": {
      "image/png": "[encoded data removed]",
      "text/plain": [
       "<matplotlib.figure.Figure at 0x1e7f2828>"
      ]
     },
     "metadata": {},
     "output_type": "display_data"
    },
    {
     "data": {
      "image/png": "[encoded data removed]",
      "text/plain": [
       "<matplotlib.figure.Figure at 0x1fa185c0>"
      ]
     },
     "metadata": {},
     "output_type": "display_data"
    }
   ],
   "source": [
    "a = (df['Duration'].mean())/60\n",
    "a = str(a)\n",
    "print \"The mean ride duration is \" + a \n",
    "\n",
    "# get trip duration and breakdown by user type\n",
    "df_filter_customer = df[df['Subscriber Type'] == 'Customer']\n",
    "df_filter_customer_mins = df_filter_customer['Duration'] / 60\n",
    "(df_filter_customer['Duration'].mean())\n",
    "(df_filter_customer['Duration'].mean())/60\n",
    "\n",
    "fig, ax = plt.subplots()\n",
    "bins = np.linspace(2, 150, 20, endpoint=True)\n",
    "plt.title('Customer Trips - frequency breakdown by Trip Duration')\n",
    "plt.xlabel('Duration (mins)')\n",
    "plt.ylabel('Frequency')\n",
    "ax.hist(df_filter_customer_mins, bins, orientation='vertical')\n",
    "plt.show()\n",
    "\n",
    "df_filter_subscriber = df[df['Subscriber Type'] == 'Subscriber']\n",
    "df_filter_subscriber_mins = df_filter_subscriber['Duration'] / 60\n",
    "(df_filter_subscriber['Duration'].mean())\n",
    "(df_filter_subscriber['Duration'].mean())/60\n",
    "\n",
    "fig, ax = plt.subplots()\n",
    "bins = np.linspace(2, 150, 20, endpoint=True)\n",
    "plt.title('Subscriber Trips - frequency breakdown by Trip Duration')\n",
    "plt.xlabel('Duration (mins)')\n",
    "plt.ylabel('Frequency')\n",
    "ax.hist(df_filter_subscriber_mins, bins, orientation='vertical')\n",
    "plt.show()"
   ]
  },
  {
   "cell_type": "markdown",
   "metadata": {},
   "source": [
    "The average trip takes about 18 minutes on the whole. However when we separate customers from subscribers, we can see that the average trip duration of customers is a lot higher than that of subscribers. They might be using bikes for different purposes. We will dig deeper to see if there are any more differences in user behaviour."
   ]
  },
  {
   "cell_type": "markdown",
   "metadata": {},
   "source": [
    "# Knowing our users"
   ]
  },
  {
   "cell_type": "code",
   "execution_count": 5,
   "metadata": {
    "collapsed": false
   },
   "outputs": [
    {
     "name": "stdout",
     "output_type": "stream",
     "text": [
      "Start Day of Week  Subscriber Type\n",
      "Friday             Customer            4032\n",
      "                   Subscriber         23238\n",
      "Monday             Customer            3141\n",
      "                   Subscriber         25876\n",
      "Saturday           Customer            5811\n",
      "                   Subscriber          5626\n",
      "Sunday             Customer            6019\n",
      "                   Subscriber          5066\n",
      "Thursday           Customer            3387\n",
      "                   Subscriber         27253\n",
      "Tuesday            Customer            3134\n",
      "                   Subscriber         27944\n",
      "Wednesday          Customer            3386\n",
      "                   Subscriber         27879\n",
      "Name: Trip ID, dtype: int64\n"
     ]
    },
    {
     "data": {
      "text/plain": [
       "<matplotlib.text.Text at 0x15113358>"
      ]
     },
     "execution_count": 5,
     "metadata": {},
     "output_type": "execute_result"
    },
    {
     "data": {
      "image/png": "[encoded data removed]",
      "text/plain": [
       "<matplotlib.figure.Figure at 0xe0d3d30>"
      ]
     },
     "metadata": {},
     "output_type": "display_data"
    }
   ],
   "source": [
    "# plot user counts by subscriber type\n",
    "user_breakdown = df.groupby(['Subscriber Type'])['Trip ID'].count()\n",
    "\n",
    "# plot subscriber type vs day of week\n",
    "day_of_week = df.groupby(['Start Day of Week', 'Subscriber Type'])['Trip ID'].count()\n",
    "print day_of_week\n",
    "day_of_week.unstack()\n",
    "day_of_week_plot = day_of_week.unstack().plot(kind='bar',stacked=True,title=\"Subscriber Breakdown by Day of Week\")\n",
    "day_of_week_plot.set_xlabel(\"Day of Week\")\n",
    "day_of_week_plot.set_ylabel(\"No. of Trips\")\n"
   ]
  },
  {
   "cell_type": "code",
   "execution_count": 6,
   "metadata": {
    "collapsed": false
   },
   "outputs": [
    {
     "data": {
      "text/plain": [
       "<matplotlib.text.Text at 0x14042630>"
      ]
     },
     "execution_count": 6,
     "metadata": {},
     "output_type": "execute_result"
    },
    {
     "data": {
      "image/png": "[encoded data removed]",
      "text/plain": [
       "<matplotlib.figure.Figure at 0x13dd0cc0>"
      ]
     },
     "metadata": {},
     "output_type": "display_data"
    },
    {
     "data": {
      "image/png": "[encoded data removed]",
      "text/plain": [
       "<matplotlib.figure.Figure at 0x1cbf2a20>"
      ]
     },
     "metadata": {},
     "output_type": "display_data"
    }
   ],
   "source": [
    "# plot subscriber type vs day of week (weekend)\n",
    "weekend = ['Saturday', 'Sunday']\n",
    "df_filter_weekend = df[df['Start Day of Week'].isin(weekend)]\n",
    "\n",
    "hour_of_day_weekend = df_filter_weekend.groupby(['Start Hour', 'Subscriber Type'])['Trip ID'].count()\n",
    "hour_of_day_weekend.unstack()\n",
    "hour_of_day_weekend_plot = hour_of_day_weekend.unstack().plot(kind='bar',stacked=True,title=\"Subscriber Breakdown by Hour of Day (Weekend)\")\n",
    "hour_of_day_weekend_plot.set_xlabel(\"Hour of Day\")\n",
    "hour_of_day_weekend_plot.set_ylabel(\"No. of Trips\")\n",
    "\n",
    "# plot subscriber type vs day of week (weekday)\n",
    "df_filter_weekday = df[~df['Start Day of Week'].isin(weekend)]\n",
    "\n",
    "hour_of_day_weekday = df_filter_weekday.groupby(['Start Hour', 'Subscriber Type'])['Trip ID'].count()\n",
    "hour_of_day_weekday.unstack()\n",
    "hour_of_day_weekday_plot = hour_of_day_weekday.unstack().plot(kind='bar',stacked=True,title=\"Subscriber Breakdown by Hour of Day (Weekday)\")\n",
    "hour_of_day_weekday_plot.set_xlabel(\"Hour of Day\")\n",
    "hour_of_day_weekday_plot.set_ylabel(\"No. of Trips\")"
   ]
  },
  {
   "cell_type": "markdown",
   "metadata": {},
   "source": [
    "# Percentage share of customers vs subscribers\n",
    "17% of trips are from customers. The remaining 83% are from subscribers. We might want to obtain revenue data for customers and subscribers for deeper analysis into revenue generated from each group. Also, we don't know the percentage of new vs repeat customers, or renewal rate of subscriptions. This may define the direction/priority for future customer acquisition or retention programs."
   ]
  },
  {
   "cell_type": "markdown",
   "metadata": {},
   "source": [
    "# Usage Trends\n",
    "\n",
    "Customer usage peaks during weekends. In contrast, subscriber usage peaks during weekdays. This is valuable data for targeting different segments of users, be it via in-app push notifications, marketing campaigns, google adwords, re-marketing, and other data-driven campaigns. Of course, this could possibly have an effect on response rates for paid campaigns and/or ad spend.\n",
    "\n",
    "Hour of day - weekends Usage peaks during the day. This is true for both customers and subscribers. Ridership decreases during weekends. This may be an opportunity for to target different segments of users - possibly leisure riders (or perhaps they are already switching to using Uber on weekends!)\n",
    "\n",
    "Hour of day - weekdays Usage peaks during typical \"rush hours\" as expected - 7am - 9am, 4pm - 7pm\n",
    "\n",
    "Such data would help for demand planning and forecasts to ensure sufficient bikes at the most popular terminals. It could even be possible to use the data for initial modeling of dynamic pricing, if deemed applicable to the country of interest.\n",
    "\n"
   ]
  },
  {
   "cell_type": "markdown",
   "metadata": {},
   "source": [
    "# Most frequently used stations¶"
   ]
  },
  {
   "cell_type": "code",
   "execution_count": 7,
   "metadata": {
    "collapsed": false
   },
   "outputs": [
    {
     "name": "stdout",
     "output_type": "stream",
     "text": [
      "Start Station\n",
      "Harry Bridges Plaza (Ferry Building)    1349.0\n",
      "Embarcadero at Sansome                  1298.0\n",
      "Market at 4th                            464.0\n",
      "Embarcadero at Vallejo                   416.0\n",
      "Embarcadero at Bryant                    412.0\n",
      "Powell at Post (Union Square)            407.0\n",
      "Powell Street BART                       385.0\n",
      "Steuart at Market                        356.0\n",
      "2nd at Townsend                          344.0\n",
      "Market at Sansome                        341.0\n",
      "Name: (len, Trip ID, Customer), dtype: float64\n"
     ]
    },
    {
     "data": {
      "text/plain": [
       "End Station\n",
       "Embarcadero at Sansome                      1677\n",
       "Harry Bridges Plaza (Ferry Building)        1100\n",
       "Market at 4th                                525\n",
       "Powell Street BART                           470\n",
       "Embarcadero at Vallejo                       466\n",
       "Steuart at Market                            464\n",
       "Powell at Post (Union Square)                402\n",
       "Grant Avenue at Columbus Avenue              381\n",
       "San Francisco Caltrain (Townsend at 4th)     351\n",
       "2nd at Townsend                              347\n",
       "Name: (len, Trip ID, Customer), dtype: int64"
      ]
     },
     "execution_count": 7,
     "metadata": {},
     "output_type": "execute_result"
    }
   ],
   "source": [
    "# most popular stations - weekend, customer\n",
    "station_weekend = pd.pivot_table(df_filter_weekend,index=['Start Station'],columns=['Subscriber Type'],values=['Trip ID'],aggfunc=[len])\n",
    "station_weekend_customer = station_weekend[('len', 'Trip ID', 'Customer')]\n",
    "print station_weekend_customer.nlargest(10)\n",
    "\n",
    "station_weekend_end = pd.pivot_table(df_filter_weekend,index=['End Station'],columns=['Subscriber Type'],values=['Trip ID'],aggfunc=[len])\n",
    "station_weekend_end_customer = station_weekend_end[('len', 'Trip ID', 'Customer')]\n",
    "station_weekend_end_customer.nlargest(10)"
   ]
  },
  {
   "cell_type": "code",
   "execution_count": 8,
   "metadata": {
    "collapsed": false
   },
   "outputs": [
    {
     "name": "stdout",
     "output_type": "stream",
     "text": [
      "Start Station\n",
      "Harry Bridges Plaza (Ferry Building)        575.0\n",
      "San Francisco Caltrain (Townsend at 4th)    506.0\n",
      "Embarcadero at Bryant                       492.0\n",
      "2nd at Townsend                             489.0\n",
      "Embarcadero at Sansome                      488.0\n",
      "Townsend at 7th                             423.0\n",
      "Market at 4th                               421.0\n",
      "Powell Street BART                          377.0\n",
      "Grant Avenue at Columbus Avenue             347.0\n",
      "Civic Center BART (7th at Market)           325.0\n",
      "Name: (len, Trip ID, Subscriber), dtype: float64\n"
     ]
    },
    {
     "data": {
      "text/plain": [
       "End Station\n",
       "Harry Bridges Plaza (Ferry Building)        645\n",
       "San Francisco Caltrain (Townsend at 4th)    588\n",
       "2nd at Townsend                             496\n",
       "Embarcadero at Sansome                      488\n",
       "Market at 4th                               478\n",
       "Embarcadero at Bryant                       470\n",
       "Powell Street BART                          451\n",
       "Townsend at 7th                             441\n",
       "Civic Center BART (7th at Market)           341\n",
       "Market at Sansome                           327\n",
       "Name: (len, Trip ID, Subscriber), dtype: int64"
      ]
     },
     "execution_count": 8,
     "metadata": {},
     "output_type": "execute_result"
    }
   ],
   "source": [
    "# most popular stations - weekend, subscriber\n",
    "station_weekend_subscriber = station_weekend[('len', 'Trip ID', 'Subscriber')]\n",
    "print station_weekend_subscriber.nlargest(10)\n",
    "\n",
    "station_weekend_end_customer = station_weekend_end[('len', 'Trip ID', 'Subscriber')]\n",
    "station_weekend_end_customer.nlargest(10)"
   ]
  },
  {
   "cell_type": "code",
   "execution_count": 9,
   "metadata": {
    "collapsed": false
   },
   "outputs": [
    {
     "name": "stdout",
     "output_type": "stream",
     "text": [
      "Start Station\n",
      "Embarcadero at Sansome                      1704\n",
      "Harry Bridges Plaza (Ferry Building)        1386\n",
      "Market at 4th                                744\n",
      "Powell Street BART                           698\n",
      "Embarcadero at Vallejo                       630\n",
      "San Francisco Caltrain (Townsend at 4th)     608\n",
      "Powell at Post (Union Square)                594\n",
      "2nd at Townsend                              591\n",
      "Steuart at Market                            577\n",
      "Market at Sansome                            482\n",
      "Name: (len, Trip ID, Customer), dtype: int64\n"
     ]
    },
    {
     "data": {
      "text/plain": [
       "End Station\n",
       "Embarcadero at Sansome                      2206\n",
       "Harry Bridges Plaza (Ferry Building)        1176\n",
       "San Francisco Caltrain (Townsend at 4th)     785\n",
       "Powell Street BART                           714\n",
       "Market at 4th                                661\n",
       "Steuart at Market                            623\n",
       "2nd at Townsend                              602\n",
       "Powell at Post (Union Square)                598\n",
       "Embarcadero at Vallejo                       579\n",
       "Grant Avenue at Columbus Avenue              499\n",
       "Name: (len, Trip ID, Customer), dtype: int64"
      ]
     },
     "execution_count": 9,
     "metadata": {},
     "output_type": "execute_result"
    }
   ],
   "source": [
    "# most popular stations - weekday, customer\n",
    "station_weekday = pd.pivot_table(df_filter_weekday,index=['Start Station'],columns=['Subscriber Type'],values=['Trip ID'],aggfunc=[len])\n",
    "station_weekday_customer = station_weekday[('len', 'Trip ID', 'Customer')]\n",
    "print station_weekday_customer.nlargest(10)\n",
    "\n",
    "station_weekday_end = pd.pivot_table(df_filter_weekday,index=['End Station'],columns=['Subscriber Type'],values=['Trip ID'],aggfunc=[len])\n",
    "station_weekday_end_customer = station_weekday_end[('len', 'Trip ID', 'Customer')]\n",
    "station_weekday_end_customer.nlargest(10)"
   ]
  },
  {
   "cell_type": "code",
   "execution_count": 10,
   "metadata": {
    "collapsed": false
   },
   "outputs": [
    {
     "name": "stdout",
     "output_type": "stream",
     "text": [
      "Start Station\n",
      "San Francisco Caltrain (Townsend at 4th)         11571\n",
      "San Francisco Caltrain 2 (330 Townsend)           6248\n",
      "Temporary Transbay Terminal (Howard at Beale)     6177\n",
      "Market at Sansome                                 5701\n",
      "2nd at Townsend                                   5400\n",
      "Steuart at Market                                 5087\n",
      "Harry Bridges Plaza (Ferry Building)              5026\n",
      "Townsend at 7th                                   4612\n",
      "2nd at South Park                                 3863\n",
      "Market at 10th                                    3857\n",
      "Name: (len, Trip ID, Subscriber), dtype: int64\n"
     ]
    },
    {
     "data": {
      "text/plain": [
       "End Station\n",
       "San Francisco Caltrain (Townsend at 4th)         15008\n",
       "Market at Sansome                                 6858\n",
       "San Francisco Caltrain 2 (330 Townsend)           6792\n",
       "2nd at Townsend                                   5966\n",
       "Temporary Transbay Terminal (Howard at Beale)     5421\n",
       "Townsend at 7th                                   5251\n",
       "Steuart at Market                                 4989\n",
       "Harry Bridges Plaza (Ferry Building)              4987\n",
       "Powell Street BART                                3813\n",
       "Embarcadero at Sansome                            3770\n",
       "Name: (len, Trip ID, Subscriber), dtype: int64"
      ]
     },
     "execution_count": 10,
     "metadata": {},
     "output_type": "execute_result"
    }
   ],
   "source": [
    "# most popular stations - weekday, subscriber\n",
    "station_weekday_subscriber = station_weekday[('len', 'Trip ID', 'Subscriber')]\n",
    "print station_weekday_subscriber.nlargest(10)\n",
    "\n",
    "station_weekday_end_customer = station_weekday_end[('len', 'Trip ID', 'Subscriber')]\n",
    "station_weekday_end_customer.nlargest(10)"
   ]
  },
  {
   "cell_type": "markdown",
   "metadata": {},
   "source": [
    "The most frequently used stations differ between weekdays and weekends, so these differences should be considered when planning for demand at the respective stations, depending on the day of the week. Caltrain users seem to use the bike-sharing program more than users from other parts of the city. We should explore why this is the case, and see if there is a business case for more targeted campaigns to woo users from other areas."
   ]
  },
  {
   "cell_type": "code",
   "execution_count": 11,
   "metadata": {
    "collapsed": false
   },
   "outputs": [
    {
     "name": "stdout",
     "output_type": "stream",
     "text": [
      "                    len\n",
      "                Trip ID\n",
      "subscriber_city        \n",
      "San Francisco     76594\n",
      "San Jose          10891\n",
      "Oakland            9583\n",
      "San Mateo          5248\n",
      "Mountain View      4866\n",
      "Berkeley           3829\n",
      "Redwood City       3005\n",
      "Palo Alto          2894\n",
      "Sunnyvale          2251\n",
      "Alameda            1836\n"
     ]
    }
   ],
   "source": [
    "# top 10 users by city\n",
    "user_city = pd.pivot_table(df, index=['subscriber_city'], values=['Trip ID'], aggfunc=[len])\n",
    "user_city = user_city.sort_values(('len', 'Trip ID'), ascending=False).head(10)\n",
    "print user_city"
   ]
  },
  {
   "cell_type": "code",
   "execution_count": 12,
   "metadata": {
    "collapsed": false
   },
   "outputs": [
    {
     "data": {
      "text/html": [
       "<div>\n",
       "<table border=\"1\" class=\"dataframe\">\n",
       "  <thead>\n",
       "    <tr>\n",
       "      <th></th>\n",
       "      <th>len</th>\n",
       "    </tr>\n",
       "    <tr>\n",
       "      <th></th>\n",
       "      <th>Trip ID</th>\n",
       "    </tr>\n",
       "    <tr>\n",
       "      <th>Route</th>\n",
       "      <th></th>\n",
       "    </tr>\n",
       "  </thead>\n",
       "  <tbody>\n",
       "    <tr>\n",
       "      <th>Harry Bridges Plaza (Ferry Building)-50 -&gt; Embarcadero at Sansome-60</th>\n",
       "      <td>1689</td>\n",
       "    </tr>\n",
       "    <tr>\n",
       "      <th>Townsend at 7th-65 -&gt; San Francisco Caltrain (Townsend at 4th)-70</th>\n",
       "      <td>1527</td>\n",
       "    </tr>\n",
       "    <tr>\n",
       "      <th>San Francisco Caltrain 2 (330 Townsend)-69 -&gt; Townsend at 7th-65</th>\n",
       "      <td>1352</td>\n",
       "    </tr>\n",
       "    <tr>\n",
       "      <th>Embarcadero at Sansome-60 -&gt; Steuart at Market-74</th>\n",
       "      <td>1128</td>\n",
       "    </tr>\n",
       "    <tr>\n",
       "      <th>2nd at Townsend-61 -&gt; Harry Bridges Plaza (Ferry Building)-50</th>\n",
       "      <td>1109</td>\n",
       "    </tr>\n",
       "    <tr>\n",
       "      <th>2nd at South Park-64 -&gt; Market at Sansome-77</th>\n",
       "      <td>1039</td>\n",
       "    </tr>\n",
       "    <tr>\n",
       "      <th>Harry Bridges Plaza (Ferry Building)-50 -&gt; 2nd at Townsend-61</th>\n",
       "      <td>1007</td>\n",
       "    </tr>\n",
       "    <tr>\n",
       "      <th>Market at 10th-67 -&gt; San Francisco Caltrain (Townsend at 4th)-70</th>\n",
       "      <td>974</td>\n",
       "    </tr>\n",
       "    <tr>\n",
       "      <th>Steuart at Market-74 -&gt; San Francisco Caltrain (Townsend at 4th)-70</th>\n",
       "      <td>972</td>\n",
       "    </tr>\n",
       "    <tr>\n",
       "      <th>San Francisco Caltrain (Townsend at 4th)-70 -&gt; Temporary Transbay Terminal (Howard at Beale)-55</th>\n",
       "      <td>929</td>\n",
       "    </tr>\n",
       "  </tbody>\n",
       "</table>\n",
       "</div>"
      ],
      "text/plain": [
       "                                                       len\n",
       "                                                   Trip ID\n",
       "Route                                                     \n",
       "Harry Bridges Plaza (Ferry Building)-50 -> Emba...    1689\n",
       "Townsend at 7th-65 -> San Francisco Caltrain (T...    1527\n",
       "San Francisco Caltrain 2 (330 Townsend)-69 -> T...    1352\n",
       "Embarcadero at Sansome-60 -> Steuart at Market-74     1128\n",
       "2nd at Townsend-61 -> Harry Bridges Plaza (Ferr...    1109\n",
       "2nd at South Park-64 -> Market at Sansome-77          1039\n",
       "Harry Bridges Plaza (Ferry Building)-50 -> 2nd ...    1007\n",
       "Market at 10th-67 -> San Francisco Caltrain (To...     974\n",
       "Steuart at Market-74 -> San Francisco Caltrain ...     972\n",
       "San Francisco Caltrain (Townsend at 4th)-70 -> ...     929"
      ]
     },
     "execution_count": 12,
     "metadata": {},
     "output_type": "execute_result"
    }
   ],
   "source": [
    "# top 10 routes\n",
    "user_routes = pd.pivot_table(df, index=['Route'], values=['Trip ID'], aggfunc=[len])\n",
    "user_routes.sort_values(('len', 'Trip ID'), ascending=False).head(10)"
   ]
  },
  {
   "cell_type": "markdown",
   "metadata": {},
   "source": [
    "\n",
    "It is interesting to note that the 2nd and 3rd routes seem to revolve around the same start/end stations. It might be worth investigating why this is so, based on external sources we know that Townsend seems to be a major business district. Offline marketing roadshows or promos could be run in this area, or a corporate package could even be created for employees of these companies to increase adoption of the bike share program."
   ]
  },
  {
   "cell_type": "markdown",
   "metadata": {},
   "source": [
    "# Monthly trends"
   ]
  },
  {
   "cell_type": "code",
   "execution_count": 13,
   "metadata": {
    "collapsed": false
   },
   "outputs": [
    {
     "data": {
      "text/plain": [
       "<matplotlib.text.Text at 0x1464e630>"
      ]
     },
     "execution_count": 13,
     "metadata": {},
     "output_type": "execute_result"
    },
    {
     "data": {
      "image/png": "[encoded data removed]",
      "text/plain": [
       "<matplotlib.figure.Figure at 0xbfe6f98>"
      ]
     },
     "metadata": {},
     "output_type": "display_data"
    }
   ],
   "source": [
    "# monthly trends - number of trips\n",
    "df['Start Date_Short'] = df['Start Date'].dt.strftime('%Y-%m-%d')\n",
    "monthly_trips = df.groupby(['Start Date_Short'])['Trip ID'].count()\n",
    "monthly_trips_plot = monthly_trips.plot(title=\"No. of trips by Month\")\n",
    "monthly_trips_plot.set_xlabel(\"Month\")\n",
    "monthly_trips_plot.set_ylabel(\"No. of Trips\")"
   ]
  },
  {
   "cell_type": "markdown",
   "metadata": {},
   "source": [
    "The number of trips increased slightly from March to July. Fluctuations are mainly due to the differences between weekdays and weekends but we are able to perform more detailed analysis if we can correct for holidays or major events such as sports matches."
   ]
  },
  {
   "cell_type": "markdown",
   "metadata": {},
   "source": [
    "# Visualization in Tableau\n",
    "\n",
    "Please use this link if the embedded Tableau dashboard doesn't display properly:\n",
    "https://public.tableau.com/views/BikeShareProgramViz/Dashboard1?:embed=y&:display_count=yes"
   ]
  },
  {
   "cell_type": "code",
   "execution_count": 30,
   "metadata": {
    "collapsed": false
   },
   "outputs": [
    {
     "data": {
      "text/html": [
       "\n",
       "<div class='tableauPlaceholder' id='viz1489568058570' style='position: relative'><noscript><a href='#'><img alt=' ' src='https:&#47;&#47;public.tableau.com&#47;static&#47;images&#47;Bi&#47;BikeShareProgramViz&#47;Dashboard1&#47;1_rss.png' style='border: none' /></a></noscript><object class='tableauViz'  style='display:none;'><param name='host_url' value='https%3A%2F%2Fpublic.tableau.com%2F' /> <param name='site_root' value='' /><param name='name' value='BikeShareProgramViz&#47;Dashboard1' /><param name='tabs' value='yes' /><param name='toolbar' value='yes' /><param name='static_image' value='https:&#47;&#47;public.tableau.com&#47;static&#47;images&#47;Bi&#47;BikeShareProgramViz&#47;Dashboard1&#47;1.png' /> <param name='animate_transition' value='yes' /><param name='display_static_image' value='yes' /><param name='display_spinner' value='yes' /><param name='display_overlay' value='yes' /><param name='display_count' value='yes' /></object></div>                <script type='text/javascript'>                    var divElement = document.getElementById('viz1489568058570');                    var vizElement = divElement.getElementsByTagName('object')[0];                    vizElement.style.minWidth='424px';vizElement.style.maxWidth='1454px';vizElement.style.width='100%';vizElement.style.minHeight='655px';vizElement.style.maxHeight='955px';vizElement.style.height=(divElement.offsetWidth*0.75)+'px';                    var scriptElement = document.createElement('script');                    scriptElement.src = 'https://public.tableau.com/javascripts/api/viz_v1.js';                    vizElement.parentNode.insertBefore(scriptElement, vizElement);                </script>"
      ],
      "text/plain": [
       "<IPython.core.display.HTML object>"
      ]
     },
     "metadata": {},
     "output_type": "display_data"
    }
   ],
   "source": [
    "%%HTML\n",
    "\n",
    "<div class='tableauPlaceholder' id='viz1489568058570' style='position: relative'><noscript><a href='#'><img alt=' ' src='https:&#47;&#47;public.tableau.com&#47;static&#47;images&#47;Bi&#47;BikeShareProgramViz&#47;Dashboard1&#47;1_rss.png' style='border: none' /></a></noscript><object class='tableauViz'  style='display:none;'><param name='host_url' value='https%3A%2F%2Fpublic.tableau.com%2F' /> <param name='site_root' value='' /><param name='name' value='BikeShareProgramViz&#47;Dashboard1' /><param name='tabs' value='yes' /><param name='toolbar' value='yes' /><param name='static_image' value='https:&#47;&#47;public.tableau.com&#47;static&#47;images&#47;Bi&#47;BikeShareProgramViz&#47;Dashboard1&#47;1.png' /> <param name='animate_transition' value='yes' /><param name='display_static_image' value='yes' /><param name='display_spinner' value='yes' /><param name='display_overlay' value='yes' /><param name='display_count' value='yes' /></object></div>                <script type='text/javascript'>                    var divElement = document.getElementById('viz1489568058570');                    var vizElement = divElement.getElementsByTagName('object')[0];                    vizElement.style.minWidth='424px';vizElement.style.maxWidth='1454px';vizElement.style.width='100%';vizElement.style.minHeight='655px';vizElement.style.maxHeight='955px';vizElement.style.height=(divElement.offsetWidth*0.75)+'px';                    var scriptElement = document.createElement('script');                    scriptElement.src = 'https://public.tableau.com/javascripts/api/viz_v1.js';                    vizElement.parentNode.insertBefore(scriptElement, vizElement);                </script>"
   ]
  },
  {
   "cell_type": "markdown",
   "metadata": {},
   "source": [
    "We will be able to track the number of users (customers/subscribers) over time using the Tableau visualization, as well as the areas they originated from. This could be a means of tracking the impact of recommendations given for business strategy and marketing campaigns. \n",
    "\n",
    "For example, we will know if we have managed to attract users from different parts of US, or whether we managed to acquire new subscribers from within San Francisco. It will be updated with new data via SQL queries and the python scripts run on a regular basis, or even daily via cron jobs."
   ]
  },
  {
   "cell_type": "markdown",
   "metadata": {},
   "source": [
    "# Recommendations"
   ]
  },
  {
   "cell_type": "markdown",
   "metadata": {},
   "source": [
    "We saw in the visualization that most users of the Bike Share Program are based in San Francisco, by subscribers who accounted for 83% of total trips, for short rides. This appears to fit the typical behaviour of commuters. In San Francisco itself, users from Caltrain seem to use the system most. \n",
    "\n",
    "Users who are customers seem to fit the typical behaviour of tourists, since they frequently visit on weekends and they come from many different parts of the United States. They don't seem to ride around business districts unlike commuters.\n",
    "\n",
    "So, we should take these into account when designing offline promotion or marketing tactics such as sign-up booths to acquire more new subscribers/customers. Of course, this could also be used for planning and accommodating demand by building more stations in locations with high number of users.\n",
    "\n",
    "Here are some marketing/user acquisition-related recommendations after this analysis:\n",
    "\n",
    "1. We should run investigative studies see if we can incorporate weather, day of week, time of day, user type into predictive models together with Google Adwords/Programmatic advertising campaign data. We may be able to optimize bids and conversion rates with these data.\n",
    "\n",
    "2. We could look into location-based campaigns for subscribers - these will be San-Francisco specific. For customers, campaigns can be targeted to most states in America. It could be possible to increase new customer/subscriber acquisition quickly by placing ads/content for people in the cities of frequently used terminals, then gradually move towards areas with fewer customers/subscribers. \n",
    "\n",
    "3. Email/Website personalization - if we are able to identify customers/subscribers on any bike sharing app, website or within marketing automation systems, we can create marketing segments and display personalized content that is more relevant to them, given that tourists and commuters would use bikes for different purposes.\n",
    "\n",
    "4. We should look into creating specialized content and landing pages to target these 2 segments of users in a more specific manner. For example, tourists and commuters are likely to be interested in different topics.\n",
    "\n",
    "5. We should use the visualization to create marketing plans for new user acquisition in surrouding regions, be it via online or offline tactics.\n",
    "\n",
    "6. We could look into offering different types of bicycles at different price points to different user types - perhaps road bikes vs normal city bikes."
   ]
  },
  {
   "cell_type": "markdown",
   "metadata": {},
   "source": [
    "# Limitations/Future Improvements\n",
    "\n",
    "The analysis is limited by the amount of data available, with more data, possibly from external sources as well as web analytics/marketing campaign data, more investigations and suggestions could be made with respect to marketing campaigns or growth strategy.\n",
    "\n",
    "Public holidays & Weather - intuition suggests that usage would plummet during rainy or inclement weather. If we are able to obtain conversion data on marketing campaigns, we could see if the weather impacts conversion rates on ads. This might be an opportunity to optimize or limit ad spend on programmatic advertising tactics such as Google Adwords (using scripts) or DoubleClick.\n",
    "\n",
    "Complete zipcode databases may not be available in other countries, unlike in US. So more effort may be required if we are to replicate this analysis in other countries.\n"
   ]
  }
 ],
 "metadata": {
  "kernelspec": {
   "display_name": "Python 2",
   "language": "python",
   "name": "python2"
  },
  "language_info": {
   "codemirror_mode": {
    "name": "ipython",
    "version": 2
   },
   "file_extension": ".py",
   "mimetype": "text/x-python",
   "name": "python",
   "nbconvert_exporter": "python",
   "pygments_lexer": "ipython2",
   "version": "2.7.10"
  }
 },
 "nbformat": 4,
 "nbformat_minor": 0
}

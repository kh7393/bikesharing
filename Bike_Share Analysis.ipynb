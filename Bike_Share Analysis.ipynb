{
 "cells": [
  {
   "cell_type": "markdown",
   "metadata": {},
   "source": [
    "This is the analysis behind San Francisco Bike Share Program."
   ]
  },
  {
   "cell_type": "code",
   "execution_count": 3,
   "metadata": {
    "collapsed": false
   },
   "outputs": [
    {
     "data": {
      "text/plain": [
       "Trip ID            171792\n",
       "Duration             8329\n",
       "Start Date          93171\n",
       "Start Station          70\n",
       "Start Terminal         70\n",
       "End Date            92115\n",
       "End Station            70\n",
       "End Terminal           70\n",
       "Bike #                681\n",
       "Subscriber Type         2\n",
       "Zip Code             3526\n",
       "dtype: int64"
      ]
     },
     "execution_count": 3,
     "metadata": {},
     "output_type": "execute_result"
    }
   ],
   "source": [
    "%matplotlib inline\n",
    "import sqlite3\n",
    "from pandasql import sqldf\n",
    "import pandas as pd\n",
    "import matplotlib.pyplot as plt\n",
    "\n",
    "# df_trip_data_part1 = pd.read_sql_query(\"\"\"\n",
    "#                           select * from fact_trips \n",
    "#                           left join dim_stations on\n",
    "#                           fact_trips.start_station_id = dim_stations.id\n",
    "#                           left join (select * from dim_stations) as dim_stations_end on\n",
    "#                           fact_trips.end_station_id = dim_stations_end.id\n",
    "#                           left join (select id, entity_type as Subscriber_Type from dim_entity) as subscriber on\n",
    "#                           fact_trips.entity_id = subscriber.id\n",
    "#                           left join (select entity_id, zip_code from dim_entity_zip) as entity_zip_a on\n",
    "#                           fact_trips.entity_id = entity_zip_a.entity_id\n",
    "#                           ;\n",
    "#                           \"\"\", \n",
    "#                           conn)\n",
    "\n",
    "df = pd.read_csv(\"201408_trip_data.csv\")\n",
    "df['Start Date'] = pd.to_datetime(df['Start Date'])\n",
    "df['End Date'] = pd.to_datetime(df['End Date'])\n",
    "df['Duration'] = df['End Date'] - df['Start Date']\n",
    "df['Start Day of Week'] = df['Start Date'].dt.strftime('%A')\n",
    "df.head()\n",
    "df.apply(pd.Series.nunique)"
   ]
  },
  {
   "cell_type": "code",
   "execution_count": 5,
   "metadata": {
    "collapsed": false
   },
   "outputs": [
    {
     "name": "stdout",
     "output_type": "stream",
     "text": [
      "1132.51424979\n"
     ]
    }
   ],
   "source": [
    "print df['Duration'].mean()"
   ]
  },
  {
   "cell_type": "markdown",
   "metadata": {
    "collapsed": true
   },
   "source": [
    "We have a total of 70 unique terminals in this program.\n",
    "We have 171792 trips made over a span of 5 months, from March 2014 to August 2014.\n",
    "The average trip takes about 18 minutes\n"
   ]
  },
  {
   "cell_type": "markdown",
   "metadata": {
    "collapsed": true
   },
   "source": [
    "Busiest Stations:"
   ]
  },
  {
   "cell_type": "markdown",
   "metadata": {},
   "source": [
    "Time/Day Analysis: \n",
    "\n",
    "Weekdays vs Weekends\n",
    "\n",
    "Implication? Should we increase or decrease capacity on weekdays or weekends"
   ]
  },
  {
   "cell_type": "markdown",
   "metadata": {},
   "source": [
    "Knowing our users\n",
    "\n",
    "Percentage share of customers vs subscribers\n",
    "17% of trips are from customers. The remaining 83% are from subscribers. We might want to obtain revenue data for customers and subscribers for deeper analysis into revenue generated from each group. Also, we don't know the percentage of new vs repeat customers, this may define the direction/priority for future customer acquisition or retention programs.\n",
    "\n",
    "DO they have different behaviour, usage times.\n",
    "\n",
    "Customer usage peaks during weekends.\n",
    "In contrast, subscriber usage peaks during weekdays.\n",
    "This is valuable data for targeting different segments of users, be it via in-app push notifications, marketing campaigns, google adwords, re-marketing, and other data-driven campaigns. Of course, this could possibly have an effect on response rates for paid campaigns and/or ad spend.\n",
    "\n",
    "Hour of day - weekends\n",
    "\n",
    "Usage peaks during midday from 10am - 4pm. This is true for both customers and subscribers.\n",
    "\n",
    "Hour of day - weekdays\n",
    "\n",
    "There are peaks during typical \"rush hours\" as expected - 7am - 9am, 4pm - 7pm\n",
    "\n",
    "Such data would help for demand planning and forecasts to ensure sufficient bikes at the most popular terminals.\n",
    "\n",
    "In general, does ridership increase or decrease during weekends?\n",
    "Ridership decreases during weekends. \n",
    "\n",
    "Check seasonality by month\n",
    "\n",
    "Which zip codes do they come from\n",
    "\n",
    "This has implications IP targeted campaigns - it could be possible to increase new customer/subscriber acquisition quickly by placing ads/content for people in the cities of frequently used terminals, then gradually move towards areas with fewer customers/subscribers.\n",
    "\n",
    "Which terminals do they come from\n",
    "\n"
   ]
  },
  {
   "cell_type": "code",
   "execution_count": null,
   "metadata": {
    "collapsed": true
   },
   "outputs": [],
   "source": [
    "Predictions\n",
    "\n",
    "Can we predict ridership by seasonality\n",
    "\n",
    "We saw here that Bike Share is used mostly in San Francisco, by commuters, when it isn't raining, for rides under 15 minutes. It looks like BART commuters don't use the system to the extent that Caltrain commuters do. On weekends and holidays, visitors to San Francisco use the system to ride around town.\n",
    "\n",
    "One dimension not explored in this analysis was popularity of each station among subscribers vs customers. With what we saw of the behavior of customers vs subscribers we could identify stations more popular with tourists or with commuters and potentially identify areas of the city with demand for future stations.\n",
    "\n",
    "One recommendation that can be made is for station growth into SOMA. Users are already shown to be commuters heading to work, and SOMA is one area of San Francisco with a high density of businesses, close proximity to the existing stations, and currently lacking any Bike Share stations."
   ]
  },
  {
   "cell_type": "markdown",
   "metadata": {},
   "source": [
    "Data we DON'T know\n",
    "\n",
    "Public holidays\n",
    "Weather - intuition suggests that usage would plummet during rainy or inclement weather. Is this true, and how can we transform or add value to riders in poor weather conditions. What about sunny weather\n",
    "Type of bike - do we want to provide bike recommendations depending on types of trips. Road bikes might be better if its long distances.\n",
    "Powerful zipcode libraries not available for every country unlike in US. \n",
    "\n",
    "REMOVE TRIPS NOT TO SF\n",
    "\n",
    "sf <- c(\"South Van Ness at Market\", \"Market at 10th\", \"San Francisco City Hall\", \n",
    "        \"Golden Gate at Polk\", \n",
    "        \"Civic Center BART (7th at Market)\", \"Powell Street BART\", \n",
    "        \"Powell at Post (Union Square)\", \"5th at Howard\", \"Market at 4th\", \"Post at Kearny\", \n",
    "        \"Commercial at Montgomery\", \"Washington at Kearny\", \"Grant Avenue at Columbus Avenue\", \n",
    "        \"Embarcadero at Sansome\", \"Embarcadero at Vallejo\", \"Broadway St at Battery St\", \n",
    "        \"Davis at Jackson\", \"Clay at Battery\", \"Harry Bridges Plaza (Ferry Building)\", \n",
    "        \"Steuart at Market\", \"Beale at Market\", \"Mechanics Plaza (Market at Battery)\", \n",
    "        \"Embarcadero at Folsom\", \"Temporary Transbay Terminal (Howard at Beale)\", \n",
    "        \"Market at Sansome\", \"Spear at Folsom\", \"Howard at 2nd\", \"Embarcadero at Bryant\", \n",
    "        \"Yerba Buena Center of the Arts (3rd @ Howard)\", \"2nd at Folsom\", \"2nd at South Park\", \n",
    "        \"2nd at Townsend\", \"San Francisco Caltrain (Townsend at 4th)\", \"Townsend at 7th\",\n",
    "        \"San Francisco Caltrain 2 (330 Townsend)\")"
   ]
  }
 ],
 "metadata": {
  "kernelspec": {
   "display_name": "Python 2",
   "language": "python",
   "name": "python2"
  },
  "language_info": {
   "codemirror_mode": {
    "name": "ipython",
    "version": 2
   },
   "file_extension": ".py",
   "mimetype": "text/x-python",
   "name": "python",
   "nbconvert_exporter": "python",
   "pygments_lexer": "ipython2",
   "version": "2.7.11"
  }
 },
 "nbformat": 4,
 "nbformat_minor": 0
}

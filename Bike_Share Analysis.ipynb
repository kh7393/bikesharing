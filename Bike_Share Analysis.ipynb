{
 "cells": [
  {
   "cell_type": "markdown",
   "metadata": {},
   "source": [
    "This is the analysis behind San Francisco Bike Share Program."
   ]
  },
  {
   "cell_type": "code",
   "execution_count": 3,
   "metadata": {
    "collapsed": false
   },
   "outputs": [
    {
     "data": {
      "text/plain": [
       "Trip ID            171792\n",
       "Duration             8329\n",
       "Start Date          93171\n",
       "Start Station          70\n",
       "Start Terminal         70\n",
       "End Date            92115\n",
       "End Station            70\n",
       "End Terminal           70\n",
       "Bike #                681\n",
       "Subscriber Type         2\n",
       "Zip Code             3526\n",
       "dtype: int64"
      ]
     },
     "execution_count": 3,
     "metadata": {},
     "output_type": "execute_result"
    }
   ],
   "source": [
    "%matplotlib inline\n",
    "import sqlite3\n",
    "from pandasql import sqldf\n",
    "import pandas as pd\n",
    "import matplotlib.pyplot as plt\n",
    "\n",
    "# df_trip_data_part1 = pd.read_sql_query(\"\"\"\n",
    "#                           select * from fact_trips \n",
    "#                           left join dim_stations on\n",
    "#                           fact_trips.start_station_id = dim_stations.id\n",
    "#                           left join (select * from dim_stations) as dim_stations_end on\n",
    "#                           fact_trips.end_station_id = dim_stations_end.id\n",
    "#                           left join (select id, entity_type as Subscriber_Type from dim_entity) as subscriber on\n",
    "#                           fact_trips.entity_id = subscriber.id\n",
    "#                           left join (select entity_id, zip_code from dim_entity_zip) as entity_zip_a on\n",
    "#                           fact_trips.entity_id = entity_zip_a.entity_id\n",
    "#                           ;\n",
    "#                           \"\"\", \n",
    "#                           conn)\n",
    "\n",
    "df = pd.read_csv(\"201408_trip_data.csv\")\n",
    "df['Start Date'] = pd.to_datetime(df['Start Date'])\n",
    "df['End Date'] = pd.to_datetime(df['End Date'])\n",
    "df['Duration'] = df['End Date'] - df['Start Date']\n",
    "df['Start Day of Week'] = df['Start Date'].dt.strftime('%A')\n",
    "df.head()\n",
    "df.apply(pd.Series.nunique)"
   ]
  },
  {
   "cell_type": "code",
   "execution_count": 5,
   "metadata": {
    "collapsed": false
   },
   "outputs": [
    {
     "name": "stdout",
     "output_type": "stream",
     "text": [
      "1132.51424979\n"
     ]
    }
   ],
   "source": [
    "print df['Duration'].mean()"
   ]
  },
  {
   "cell_type": "markdown",
   "metadata": {
    "collapsed": true
   },
   "source": [
    "We have a total of 70 unique terminals in this program.\n",
    "We have 171792 trips made over a span of 5 months, from March 2014 to August 2014.\n",
    "The average trip takes about 18 minutes\n"
   ]
  },
  {
   "cell_type": "markdown",
   "metadata": {
    "collapsed": true
   },
   "source": [
    "Busiest Stations:"
   ]
  },
  {
   "cell_type": "markdown",
   "metadata": {},
   "source": [
    "Time/Day Analysis: \n",
    "\n",
    "Weekdays vs Weekends\n",
    "\n",
    "Implication? Should we increase or decrease capacity on weekdays or weekends"
   ]
  },
  {
   "cell_type": "markdown",
   "metadata": {},
   "source": [
    "Knowing our users\n",
    "\n",
    "Percentage share of customers vs subscribers\n",
    "\n",
    "DO they have different behaviour, usage times.\n",
    "\n",
    "Which zip codes do they come from\n",
    "\n",
    "Which terminals do they come from"
   ]
  }
 ],
 "metadata": {
  "kernelspec": {
   "display_name": "Python 2",
   "language": "python",
   "name": "python2"
  },
  "language_info": {
   "codemirror_mode": {
    "name": "ipython",
    "version": 2
   },
   "file_extension": ".py",
   "mimetype": "text/x-python",
   "name": "python",
   "nbconvert_exporter": "python",
   "pygments_lexer": "ipython2",
   "version": "2.7.11"
  }
 },
 "nbformat": 4,
 "nbformat_minor": 0
}
